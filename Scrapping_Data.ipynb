{
  "nbformat": 4,
  "nbformat_minor": 0,
  "metadata": {
    "colab": {
      "provenance": [],
      "authorship_tag": "ABX9TyOJwa7SGepiLd3EZcc4gjI8"
    },
    "kernelspec": {
      "name": "python3",
      "display_name": "Python 3"
    },
    "language_info": {
      "name": "python"
    }
  },
  "cells": [
    {
      "cell_type": "code",
      "execution_count": null,
      "metadata": {
        "id": "1rm75uglYwoR"
      },
      "outputs": [],
      "source": [
        "# Import required Python package\n",
        "!pip install pandas\n",
        "\n",
        "# Install Node.js (because tweet-harvest built using Node.js)\n",
        "!sudo apt-get update\n",
        "!sudo apt-get install -y ca-certificates curl gnupg\n",
        "!sudo mkdir -p /etc/apt/keyrings\n",
        "!curl -fsSL https://deb.nodesource.com/gpgkey/nodesource-repo.gpg.key | sudo gpg --dearmor -o /etc/apt/keyrings/nodesource.gpg\n",
        "\n",
        "!NODE_MAJOR=20 && echo \"deb [signed-by=/etc/apt/keyrings/nodesource.gpg] https://deb.nodesource.com/node_$NODE_MAJOR.x nodistro main\" | sudo tee /etc/apt/sources.list.d/nodesource.list\n",
        "\n",
        "!sudo apt-get update\n",
        "!sudo apt-get install nodejs -y\n",
        "\n",
        "!node -v"
      ]
    },
    {
      "cell_type": "code",
      "source": [
        "# Crawl Data\n",
        "\n",
        "filename = 'datapilpres.csv'\n",
        "search_keyword = 'nama calon presiden until:2024-12-20 since:2023-06-01'\n",
        "limit = 450\n",
        "\n",
        "!npx --yes tweet-harvest@latest -o \"{filename}\" -s \"{search_keyword}\" -l {limit} --token \"\""
      ],
      "metadata": {
        "id": "5bUdxxq_ZHBa"
      },
      "execution_count": null,
      "outputs": []
    },
    {
      "cell_type": "code",
      "source": [
        "import pandas as pd\n",
        "file_path = \"datapilpres.xlsx\"\n",
        "df = pd.read_excel(file_path)"
      ],
      "metadata": {
        "id": "OGdsaQicZcU4"
      },
      "execution_count": null,
      "outputs": []
    },
    {
      "cell_type": "code",
      "source": [
        "import re\n",
        "\n",
        "# Fungsi untuk mengekstrak hashtags dan cashtags dari teks tweet\n",
        "def extract_hashtags_cashtags(text):\n",
        "    hashtags = re.findall(r'#\\w+', text)\n",
        "    cashtags = re.findall(r'\\$\\w+', text)\n",
        "    return ', '.join(hashtags), ', '.join(cashtags)\n",
        "\n",
        "df['hashtags'], df['cashtags'] = zip(*df['full_text'].map(extract_hashtags_cashtags))"
      ],
      "metadata": {
        "id": "WCOE0biRZbgl"
      },
      "execution_count": null,
      "outputs": []
    },
    {
      "cell_type": "code",
      "source": [
        "# Daftar kolom tidak penting yang dihapus\n",
        "kolom_yang_dihapus = [\"id_str\", \"user_id_str\", \"conversation_id_str\"]\n",
        "\n",
        "# Menghapus kolom dari DataFrame df\n",
        "df = df.drop(kolom_yang_dihapus, axis=1)\n"
      ],
      "metadata": {
        "id": "Mv1v0RYgZfiF"
      },
      "execution_count": null,
      "outputs": []
    }
  ]
}